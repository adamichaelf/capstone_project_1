{
 "cells": [
  {
   "cell_type": "markdown",
   "id": "0",
   "metadata": {},
   "source": [
    "# Tooele County Housing Affordability Forecast\n",
    "### A Capstone Data Analysis\n",
    "#### Author: Adam F.\n",
    "#### Repository: [GitHub - capstone_project_1](https://github.com/adamichaelf/capstone_project_1)\n",
    "---"
   ]
  },
  {
   "cell_type": "markdown",
   "id": "1",
   "metadata": {},
   "source": [
    "## Table of Contents\n",
    "1. [Data Acquisition & Cleaning](#Data-Acquisition-&-Cleaning)\n",
    "2. [Exploratory Data Analysis (EDA)](#EDA)\n",
    "3. [Modeling & Forecasting](#Modeling-&-Forecasting)\n",
    "4. [Affordability Analysis](#Affordability-Analysis)\n",
    "5. [Summary & Decision Impact](#Summary-&-Decision-Impact)\n",
    "---"
   ]
  },
  {
   "cell_type": "markdown",
   "id": "2",
   "metadata": {},
   "source": [
    "## Data Acquisition & Cleaning <a id='Data-Acquisition-&-Cleaning'></a>"
   ]
  },
  {
   "cell_type": "code",
   "execution_count": null,
   "id": "3",
   "metadata": {},
   "outputs": [],
   "source": [
    "# Load necessary libraries\n",
    "import pandas as pd\n",
    "import numpy as np\n",
    "import matplotlib.pyplot as plt\n",
    "import seaborn as sns\n",
    "import requests\n",
    "from datetime import datetime\n",
    "from sklearn.linear_model import LinearRegression\n",
    "from sklearn.metrics import r2_score, mean_absolute_error\n",
    "import statsmodels.api as sm\n",
    "import warnings\n",
    "warnings.filterwarnings('ignore')"
   ]
  },
  {
   "cell_type": "markdown",
   "id": "4",
   "metadata": {},
   "source": [
    "### Load and Clean Data"
   ]
  },
  {
   "cell_type": "code",
   "execution_count": null,
   "id": "5",
   "metadata": {},
   "outputs": [],
   "source": [
    "# Placeholder: Load cleaned `housing_df`, `income_df`, and `rent_df`\n",
    "# Ensure they have columns: 'date', 'value', 'year' as needed\n",
    "# Your real data loading logic goes here"
   ]
  },
  {
   "cell_type": "code",
   "execution_count": null,
   "id": "6",
   "metadata": {},
   "outputs": [],
   "source": [
    "# INCOME DATA\n",
    "# Fetching median household income data from the Census Bureau API\n",
    "\n",
    "CENSUS_API_KEY = \"de53f7491b5574a451233a6d04721c4176263ab4\"\n",
    "years = range(2015, 2023)  # 2023 ACS not fully available yet\n",
    "results = []\n",
    "\n",
    "for year in years:\n",
    "    url = (\n",
    "        f\"https://api.census.gov/data/{year}/acs/acs5\"\n",
    "        f\"?get=NAME,B19013_001E&for=county:045&in=state:49&key={CENSUS_API_KEY}\"\n",
    "    )\n",
    "    response = requests.get(url)\n",
    "    if response.status_code == 200:\n",
    "        try:\n",
    "            data = response.json()\n",
    "            value = data[1][1]\n",
    "            results.append({\"year\": year, \"median_income\": int(value)})\n",
    "        except Exception as e:\n",
    "            print(f\"Error parsing {year}: {e}\")\n",
    "    else:\n",
    "        print(f\"Failed for {year}: {response.status_code}\")\n",
    "\n",
    "# Convert to DataFrame\n",
    "income_df = pd.DataFrame(results)\n",
    "income_df = income_df.sort_values(\"year\")\n",
    "income_df['monthly_income'] = income_df[\"median_income\"] / 12\n",
    "income_df.tail()"
   ]
  },
  {
   "cell_type": "code",
   "execution_count": null,
   "id": "7",
   "metadata": {},
   "outputs": [],
   "source": [
    "# Housing Prices – Zillow ZHVI (Zillow Home Value Index)\n",
    "\n",
    "path = kagglehub.dataset_download(\"robikscube/zillow-home-value-index\")\n",
    "zhvi_path = os.path.join(path, \"ZHVI.csv\")  # Adjust if the filename is different\n",
    "zhvi_df = pd.read_csv(zhvi_path)\n",
    "\n",
    "zhvi_df.rename(columns={zhvi_df.columns[0]: \"date\"}, inplace=True)\n",
    "\n",
    "# Filter for Utah\n",
    "zhvi_ut_df = zhvi_df[['date', 'Utah']].copy()\n",
    "# Format 'date' to datetime and normalize dates to first of the month\n",
    "zhvi_ut_df['date'] = pd.to_datetime(zhvi_ut_df['date']).dt.to_period('M').dt.to_timestamp()\n",
    "zhvi_ut_df.head()"
   ]
  },
  {
   "cell_type": "code",
   "execution_count": null,
   "id": "8",
   "metadata": {},
   "outputs": [],
   "source": [
    "# Join Utah ZHVI data with Tooele and Salt Lake County Data\n",
    "\n",
    "# County data is reported on the last day of the month and State data reported on the first, \n",
    "# dates will be normalized to the first of the month, with county data shifted forward a day\n",
    "\n",
    "zhvi_county_df = pd.read_csv(\"data/zhvi_county_data.csv\")\n",
    "# Format 'date' to datetime and normalize dates to first of the month\n",
    "zhvi_county_df['date'] = pd.to_datetime(zhvi_county_df['date']).dt.to_period('M').dt.to_timestamp()\n",
    "# Shift month forward by 1\n",
    "zhvi_county_df['date'] = zhvi_county_df['date'] + pd.DateOffset(months=1)\n",
    "\n",
    "zhvi_all_df = pd.merge(zhvi_ut_df, zhvi_county_df, on='date', how='outer')\n",
    "\n",
    "housing_df = zhvi_all_df[zhvi_all_df['date'] >= '2015-01-01']\n",
    "\n",
    "# housing_df.info()\n",
    "housing_df.head(10)\n",
    "# housing_df.tail(10)"
   ]
  },
  {
   "cell_type": "code",
   "execution_count": null,
   "id": "9",
   "metadata": {},
   "outputs": [],
   "source": [
    "# Download and load the Zillow Rent Index dataset\n",
    "path = kagglehub.dataset_download(\"zillow/rent-index\")\n",
    "rent_index_path = os.path.join(path, \"price.csv\")\n",
    "rent_index_df = pd.read_csv(rent_index_path)\n",
    "\n",
    "# Filter for Tooele County\n",
    "rent_index_df = rent_index_df[rent_index_df['County'] == \"Tooele\"]\n",
    "\n",
    "# Drop unneeded columns\n",
    "columns_to_drop = [\"City Code\", \"Metro\", \"State\", \"Population Rank\"]\n",
    "rent_index_df.drop(columns=columns_to_drop, inplace=True)\n",
    "\n",
    "# Set 'City' as the index and transpose the date columns\n",
    "rent_index_df.set_index('City', inplace=True)\n",
    "\n",
    "# Transpose the DataFrame\n",
    "rent_df1 = rent_index_df.T.copy()\n",
    "\n",
    "# Convert index to datetime if it's month strings like \"2020-01\"\n",
    "rent_df1.index = pd.to_datetime(rent_df1.index, errors='coerce')\n",
    "\n",
    "# Clean up any rows with invalid dates (if any)\n",
    "rent_df1 = rent_df1[rent_df1.index.notnull()]\n",
    "\n",
    "# Add a County mean summary column\n",
    "rent_df1['Tooele County'] = rent_df1.mean(axis=1)\n",
    "\n",
    "rent_df1 = rent_df1.dropna(subset=[\"Tooele County\"])\n",
    "\n",
    "rent_df1 = rent_df1.reset_index().rename(columns={'index': 'date'})\n",
    "rent_df1.index.name = None\n",
    "rent_df1 = rent_df1[(rent_df1['date'] >= '2015-01-01') & (rent_df1['date'] < '2017-01-01')]\n",
    "\n",
    "rent_df1.tail()"
   ]
  },
  {
   "cell_type": "code",
   "execution_count": null,
   "id": "10",
   "metadata": {},
   "outputs": [],
   "source": [
    "# Load the CSV file from the 'data' directory\n",
    "csv_path = os.path.join(\"data\", \"county_zori_data.csv\")\n",
    "rent_index_df2 = pd.read_csv(csv_path)\n",
    "\n",
    "# Filter for Tooele County\n",
    "rent_index_df2 = rent_index_df2[rent_index_df2['RegionName'] == \"Tooele County\"]\n",
    "rent_index_df2.head()\n",
    "\n",
    "# Drop unneeded columns\n",
    "columns_to_drop = [\"RegionID\", \"RegionType\", \"StateName\", \"State\", \"Metro\", \"SizeRank\", \"StateCodeFIPS\", \"MunicipalCodeFIPS\"]\n",
    "rent_index_df2.drop(columns=columns_to_drop, inplace=True)\n",
    "\n",
    "# Set 'City' as the index and transpose the date columns\n",
    "rent_index_df2.set_index('RegionName', inplace=True)\n",
    "rent_df2 = rent_index_df2.T.copy()\n",
    "\n",
    "# Convert index to datetime if it's month strings like \"2020-01\"\n",
    "rent_df2.index = pd.to_datetime(rent_df2.index, errors='coerce')\n",
    "\n",
    "# Clean up any rows with invalid dates (if any)\n",
    "rent_df2 = rent_df2[rent_df2.index.notnull()]\n",
    "\n",
    "# Drop rows where the summary column is NaN\n",
    "rent_df2 = rent_df2.dropna(subset=[\"Tooele County\"])\n",
    "\n",
    "# Reset index and rename\n",
    "rent_df2 = rent_df2.reset_index().rename(columns={'index': 'date'})\n",
    "rent_df2.index.name = None\n",
    "\n",
    "# Format 'date' to datetime and normalize dates to first of the month\n",
    "rent_df2['date'] = pd.to_datetime(rent_df2['date']).dt.to_period('M').dt.to_timestamp()\n",
    "# Shift month forward by 1\n",
    "rent_df2['date'] = rent_df2['date'] + pd.DateOffset(months=1)\n",
    "\n",
    "# Filter for dates starting from January 2015\n",
    "rent_df2 = rent_df2[rent_df2['date'] >= '2015-01-01']\n",
    "\n",
    "rent_df2.head()"
   ]
  },
  {
   "cell_type": "code",
   "execution_count": null,
   "id": "11",
   "metadata": {},
   "outputs": [],
   "source": [
    "# Select just the date and Tooele County columns\n",
    "df1 = rent_df1[['date', 'Tooele County']].copy()\n",
    "df2 = rent_df2[['date', 'Tooele County']].copy()\n",
    "\n",
    "# Concatenate the two DataFrames\n",
    "combined_df = pd.concat([df1, df2])\n",
    "\n",
    "# Set 'date' as the index\n",
    "combined_df.set_index('date', inplace=True)\n",
    "\n",
    "#  Create a complete monthly date range\n",
    "full_index = pd.date_range(start=combined_df.index.min(), end=combined_df.index.max(), freq='MS')\n",
    "\n",
    "# Reindex and interpolate missing months\n",
    "combined_df = combined_df.reindex(full_index)\n",
    "combined_df.index.name = 'date'\n",
    "\n",
    "# Interpolate missing rent values linearly\n",
    "# combined_df['Tooele County'] = combined_df['Tooele County'].interpolate(method='linear', limit_direction='both')\n",
    "# combined_df['Tooele County'] = combined_df['Tooele County'].fillna(method='ffill').fillna(method='bfill')\n",
    "# Interpolate and fill edge NaNs\n",
    "# combined_df['Tooele County'] = (\n",
    "    # combined_df['Tooele County']\n",
    "    # .interpolate(method='linear', limit_direction='both')\n",
    "    # .fillna(method='ffill')\n",
    "    # .fillna(method='bfill')\n",
    "# )\n",
    "\n",
    "# Reset index if needed\n",
    "rent_df = combined_df.reset_index()\n",
    "rent_df.rename(columns={'index': 'date'}, inplace=True)\n",
    "\n",
    "rent_df.tail(50)"
   ]
  },
  {
   "cell_type": "markdown",
   "id": "12",
   "metadata": {},
   "source": [
    "## Exploratory Data Analysis (EDA) <a id='EDA'></a>"
   ]
  },
  {
   "cell_type": "code",
   "execution_count": null,
   "id": "13",
   "metadata": {},
   "outputs": [],
   "source": [
    "# Line plots: Housing and Income trends over time\n",
    "plt.figure(figsize=(12, 6))\n",
    "sns.lineplot(data=housing_df, x='year', y='value', label='Housing Prices')\n",
    "sns.lineplot(data=income_df, x='year', y='value', label='Income')\n",
    "plt.title('Historical Trends in Housing Prices and Income')\n",
    "plt.legend(); plt.grid(); plt.show()"
   ]
  },
  {
   "cell_type": "code",
   "execution_count": null,
   "id": "14",
   "metadata": {},
   "outputs": [],
   "source": [
    "# Optional: YoY percentage change\n",
    "housing_df['pct_change'] = housing_df['value'].pct_change() * 100\n",
    "income_df['pct_change'] = income_df['value'].pct_change() * 100"
   ]
  },
  {
   "cell_type": "markdown",
   "id": "15",
   "metadata": {},
   "source": [
    "## Modeling & Forecasting <a id='Modeling-&-Forecasting'></a>"
   ]
  },
  {
   "cell_type": "code",
   "execution_count": null,
   "id": "16",
   "metadata": {},
   "outputs": [],
   "source": [
    "# Forecast 2025 using linear regression\n",
    "# Example: Housing\n",
    "X = housing_df[['year']]\n",
    "y = housing_df['value']\n",
    "model = LinearRegression().fit(X, y)\n",
    "pred_2025 = model.predict([[2025]])\n",
    "housing_forecast = pred_2025[0]\n",
    "# TODO: Repeat for income_forecast"
   ]
  },
  {
   "cell_type": "markdown",
   "id": "17",
   "metadata": {},
   "source": [
    "## Affordability Analysis <a id='Affordability-Analysis'></a>"
   ]
  },
  {
   "cell_type": "code",
   "execution_count": null,
   "id": "18",
   "metadata": {},
   "outputs": [],
   "source": [
    "# Example: Affordability Index for 2025\n",
    "# Assumes income_forecast is defined\n",
    "afford_index = housing_forecast / income_forecast\n",
    "afford_pct = afford_index * 100"
   ]
  },
  {
   "cell_type": "markdown",
   "id": "19",
   "metadata": {},
   "source": [
    "## Summary & Decision Impact <a id='Summary-&-Decision-Impact'></a>\n",
    "### Key Findings:\n",
    "- Forecasted 2025 Housing Price: $XXX\n",
    "- Forecasted 2025 Income: $YYY\n",
    "- Affordability Index: Z% (⚠️ if >30%)\n",
    "- Conclusion: Is affordability getting better or worse?\n",
    "- Impact: Support decisions on housing programs, zoning, and subsidies."
   ]
  },
  {
   "cell_type": "markdown",
   "id": "20",
   "metadata": {},
   "source": []
  }
 ],
 "metadata": {
  "kernelspec": {
   "display_name": "Python 3",
   "language": "python",
   "name": "python3"
  },
  "language_info": {
   "name": "python",
   "version": "3.11"
  }
 },
 "nbformat": 4,
 "nbformat_minor": 5
}
