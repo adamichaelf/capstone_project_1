{
 "cells": [
  {
   "cell_type": "markdown",
   "id": "0",
   "metadata": {},
   "source": [
    "# Capstone: Evaluating Housing Program Effectiveness in Tooele County\n",
    "### **An analysis of public housing program effectiveness** in meeting the needs of low- and moderate-income residents in Tooele County, Utah.\n",
    "### Research Question:\n",
    "> \"Will the projected housing prices in Tooele County, Utah, in 2025 increase at a greater rate than the projected income growth of local residents?\"\n",
    "### Hypothesis:\n",
    "> \"Projected housing prices of available housing stock in 2025 will increase at a greater rate than the projected income of residents in Tooele County, Utah.\""
   ]
  },
  {
   "cell_type": "code",
   "execution_count": null,
   "id": "1",
   "metadata": {},
   "outputs": [],
   "source": [
    "# import pandas as pd       # For data manipulation\n",
    "# import numpy as np        # For numerical operations\n",
    "\n",
    "# import requests           # For accessing REST APIs\n",
    "# import json               # For working with JSON responses\n",
    "\n",
    "# from urllib.parse import urlencode  # For formatting API query strings\n",
    "# from datetime import datetime        # For date parsing and manipulation\n",
    "\n",
    "# import matplotlib.pyplot as plt      # Core plotting library\n",
    "# import seaborn as sns                # Statistical visualization\n",
    "# import plotly.express as px          # Interactive plots (optional but great for storytelling)\n",
    "\n",
    "# import os                            # For directory and file path operations\n",
    "\n",
    "# import scipy.stats as stats          # For significance testing\n",
    "# import statsmodels.api as sm         # For regression or modeling (optional)\n",
    "\n",
    "# from sklearn.linear_model import LinearRegression\n",
    "# from sklearn.model_selection import train_test_split\n",
    "# from sklearn.metrics import mean_squared_error, r2_score\n",
    "\n",
    "# %matplotlib inline"
   ]
  },
  {
   "cell_type": "code",
   "execution_count": null,
   "id": "2",
   "metadata": {},
   "outputs": [],
   "source": [
    "# Import libraries\n",
    "import os\n",
    "import pandas as pd\n",
    "import numpy as np\n",
    "import matplotlib.pyplot as plt\n",
    "import seaborn as sns\n",
    "import requests\n",
    "import json\n",
    "from datetime import datetime\n",
    "import kagglehub\n",
    "import glob"
   ]
  },
  {
   "cell_type": "markdown",
   "id": "3",
   "metadata": {},
   "source": [
    "## 1. Introduction\n",
    "- **Research Question:** How effective are housing assistance programs in Tooele County at supporting low- and moderate-income families?\n",
    "- **Focus Areas:** Section 8, Family Self-Sufficiency, Permanent Supportive Housing, Homeownership Programs\n",
    "\n",
    "## 📚 1.2. Background and Literature Review\n",
    "\n",
    "I. Housing Affordability: 2024 Utah Priorities Project  \n",
    "   https://www.utahfoundation.org/reports/housing-affordability-2024-priorities-brief-1/\n",
    "\n",
    "II. American Community Survey (ACS) – U.S. Census Bureau  \n",
    "   https://www.census.gov/programs-surveys/acs/\n",
    "\n",
    "III. National Association of Realtors Housing Forecast  \n",
    "   https://www.nar.realtor/research-and-statistics/housing-statistics\n"
   ]
  },
  {
   "cell_type": "markdown",
   "id": "4",
   "metadata": {},
   "source": [
    "## 2. Data Acquisition\n",
    "- Sources:\n",
    "> - **Income Data**: U.S. Census Bureau (ACS API)\n",
    "> - **Housing Prices**: Zillow ZHVI via Kaggle or scraped CSV\n",
    "> - **Employment Data**: BLS API\n",
    "> - **Local Economics**: Utah DWS\n",
    "\n",
    "### API Calls and Static Data Downloads"
   ]
  },
  {
   "cell_type": "code",
   "execution_count": null,
   "id": "5",
   "metadata": {},
   "outputs": [],
   "source": [
    "# Income Data: Census API call for median income\n",
    "\n",
    "CENSUS_API_KEY = \"de53f7491b5574a451233a6d04721c4176263ab4\"\n",
    "census_url = f\"https://api.census.gov/data/2022/acs/acs5?get=NAME,B19013_001E&for=county:045&in=state:49&key={CENSUS_API_KEY}\"\n",
    "\n",
    "response = requests.get(census_url)\n",
    "income_data = response.json()\n",
    "income_df = pd.DataFrame(income_data[1:], columns=income_data[0])\n",
    "income_df.head()"
   ]
  },
  {
   "cell_type": "code",
   "execution_count": null,
   "id": "6",
   "metadata": {},
   "outputs": [],
   "source": [
    "# Housing Prices – Zillow ZHVI (Zillow Home Value Index)\n",
    "\n",
    "path = kagglehub.dataset_download(\"robikscube/zillow-home-value-index\")\n",
    "print(\"Path to dataset files:\", path)\n",
    "\n",
    "# Load all home price index data\n",
    "zhvi_path = os.path.join(path, \"State_ZHVI_AllHomes.csv\")\n",
    "zhvi_df = pd.read_csv(zhvi_path)\n",
    "\n",
    "# Filter for Tooele County, Utah\n",
    "tooele_df = zhvi_df[(zhvi_df['RegionName'] == 'Tooele County') & (zhvi_df['State'] == 'UT')]\n",
    "tooele_df.head()"
   ]
  },
  {
   "cell_type": "code",
   "execution_count": null,
   "id": "7",
   "metadata": {},
   "outputs": [],
   "source": [
    "# Employment Data: Bureau of Labor Statistics (BLS) API\n",
    "\n",
    "headers = {'Content-type': 'application/json'}\n",
    "data = json.dumps({\n",
    "  \"seriesid\": [\"LAUCN490450000000003\"],  # Replace with relevant series ID\n",
    "  \"startyear\": \"2015\",\n",
    "  \"endyear\": \"2024\",\n",
    "  \"registrationkey\": \"6563620fb1c04af6ab1809ebe75012e2\"\n",
    "})\n",
    "\n",
    "response = requests.post('https://api.bls.gov/publicAPI/v2/timeseries/data/', data=data, headers=headers)\n",
    "bls_data = response.json()"
   ]
  },
  {
   "cell_type": "code",
   "execution_count": null,
   "id": "8",
   "metadata": {},
   "outputs": [],
   "source": [
    "# Local Economics – Utah Department of Workforce Services (DWS)\n",
    "\n",
    "# Set the path to your data folder\n",
    "data_dir = 'data'\n",
    "pattern = os.path.join(data_dir, 'industry-and-wages-data-*.csv')\n",
    "\n",
    "# Collect all matching file paths\n",
    "file_paths = glob.glob(pattern)\n",
    "\n",
    "# Read and combine all CSVs, adding a 'Year' column extracted from the filename\n",
    "df_list = []\n",
    "for file_path in file_paths:\n",
    "    year = int(os.path.basename(file_path).split('-')[-1].split('.')[0])  # Extract year from filename\n",
    "    df = pd.read_csv(file_path)\n",
    "    df['Year'] = year\n",
    "    df_list.append(df)\n",
    "\n",
    "# Merge into a single DataFrame\n",
    "local_df = pd.concat(df_list, ignore_index=True)\n",
    "\n",
    "# Optional: Sort by Year\n",
    "local_df.sort_values(by='Year', inplace=True)\n",
    "\n",
    "# View result\n",
    "print(local_df.head())"
   ]
  },
  {
   "cell_type": "markdown",
   "id": "9",
   "metadata": {},
   "source": [
    "## 3. Data Cleaning & Preparation\n",
    "- Drop nulls, standardize formats, join datasets\n",
    "- Feature engineering: affordability ratios, utilization rates"
   ]
  },
  {
   "cell_type": "markdown",
   "id": "10",
   "metadata": {},
   "source": [
    "## 4. Exploratory Data Analysis (EDA)\n",
    "- Trends in rent, income, voucher use\n",
    "- Maps and charts"
   ]
  },
  {
   "cell_type": "markdown",
   "id": "11",
   "metadata": {},
   "source": [
    "## 5. Program-Level Analysis\n",
    "### 5.1 Section 8 & Tenant Protection\n",
    "### 5.2 Family Self-Sufficiency\n",
    "### 5.3 Permanent Supportive Housing\n",
    "### 5.4 Homeownership Programs"
   ]
  },
  {
   "cell_type": "markdown",
   "id": "12",
   "metadata": {},
   "source": [
    "## 6. Evaluation Metrics\n",
    "- Rent-to-income ratio\n",
    "- Voucher utilization\n",
    "- Program coverage"
   ]
  },
  {
   "cell_type": "markdown",
   "id": "13",
   "metadata": {},
   "source": [
    "## 7. Conclusions and Recommendations\n",
    "- Summary of findings\n",
    "- Policy insights"
   ]
  },
  {
   "cell_type": "markdown",
   "id": "14",
   "metadata": {},
   "source": [
    "## 8. Code Appendix\n",
    "- Functions and utilities"
   ]
  }
 ],
 "metadata": {
  "kernelspec": {
   "display_name": "Python 3",
   "language": "python",
   "name": "python3"
  },
  "language_info": {
   "codemirror_mode": {
    "name": "ipython",
    "version": 3
   },
   "file_extension": ".py",
   "mimetype": "text/x-python",
   "name": "python",
   "nbconvert_exporter": "python",
   "pygments_lexer": "ipython3",
   "version": "3.11.9"
  }
 },
 "nbformat": 4,
 "nbformat_minor": 5
}
