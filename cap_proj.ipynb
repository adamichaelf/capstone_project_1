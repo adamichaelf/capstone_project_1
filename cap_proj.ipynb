{
 "cells": [
  {
   "cell_type": "markdown",
   "id": "0",
   "metadata": {},
   "source": [
    "# Capstone: Evaluating Housing Program Effectiveness in Tooele County\n",
    "### **An analysis of public housing program effectiveness** in meeting the needs of low- and moderate-income residents in Tooele County, Utah.\n",
    "### - Research Question:\n",
    "> \"Will the projected housing prices in Tooele County, Utah, in 2025 increase at a greater rate than the projected income growth of local residents?\"\n",
    "### - Hypothesis:\n",
    "> \"_Projected housing prices_ of available housing stock in 2025 __will increase at a greater rate__ than the _projected income_ of residents in Tooele County, Utah.\""
   ]
  },
  {
   "cell_type": "code",
   "execution_count": null,
   "id": "1",
   "metadata": {},
   "outputs": [],
   "source": [
    "# import pandas as pd       # For data manipulation\n",
    "# import numpy as np        # For numerical operations\n",
    "\n",
    "# import requests           # For accessing REST APIs\n",
    "# import json               # For working with JSON responses\n",
    "\n",
    "# from urllib.parse import urlencode  # For formatting API query strings\n",
    "# from datetime import datetime        # For date parsing and manipulation\n",
    "\n",
    "# import matplotlib.pyplot as plt      # Core plotting library\n",
    "# import seaborn as sns                # Statistical visualization\n",
    "# import plotly.express as px          # Interactive plots (optional but great for storytelling)\n",
    "\n",
    "# import os                            # For directory and file path operations\n",
    "\n",
    "# import scipy.stats as stats          # For significance testing\n",
    "# import statsmodels.api as sm         # For regression or modeling (optional)\n",
    "\n",
    "# from sklearn.linear_model import LinearRegression\n",
    "# from sklearn.model_selection import train_test_split\n",
    "# from sklearn.metrics import mean_squared_error, r2_score\n",
    "\n",
    "# %matplotlib inline"
   ]
  },
  {
   "cell_type": "code",
   "execution_count": null,
   "id": "2",
   "metadata": {},
   "outputs": [],
   "source": [
    "# Import libraries\n",
    "import os\n",
    "import pandas as pd\n",
    "import numpy as np\n",
    "import matplotlib.pyplot as plt\n",
    "import seaborn as sns\n",
    "import requests\n",
    "import json\n",
    "from datetime import datetime\n",
    "import kagglehub\n",
    "import glob"
   ]
  },
  {
   "cell_type": "markdown",
   "id": "3",
   "metadata": {},
   "source": [
    "## 1. Introduction\n",
    "- **Research Question:** How effective are housing assistance programs in Tooele County at supporting low- and moderate-income families?\n",
    "- **Focus Areas:** Section 8, Family Self-Sufficiency, Permanent Supportive Housing, Homeownership Programs\n",
    "\n",
    "## 📚 1.2. Background and Literature Review\n",
    "\n",
    "I. Housing Affordability: 2024 Utah Priorities Project  \n",
    "   https://www.utahfoundation.org/reports/housing-affordability-2024-priorities-brief-1/\n",
    "\n",
    "II. American Community Survey (ACS) – U.S. Census Bureau  \n",
    "   https://www.census.gov/programs-surveys/acs/\n",
    "\n",
    "III. National Association of Realtors Housing Forecast  \n",
    "   https://www.nar.realtor/research-and-statistics/housing-statistics\n"
   ]
  },
  {
   "cell_type": "markdown",
   "id": "4",
   "metadata": {},
   "source": [
    "## 2. Data Acquisition\n",
    "\n",
    "* ### 2.1 API Calls and Static Data Downloads\n",
    "> - **Income Data** [income_df]: U.S. Census Bureau (ACS API)\n",
    "> - **Housing Prices** [housing_df]: Zillow ZHVI via Kaggle or scraped CSV\n",
    "> - **Employment Data** [bls_df]: BLS API\n",
    "> - **Local Economics** [local_df]: Utah DWS\n",
    "\n",
    "* ### 2.2 Data Cleaning & Preparation\n",
    "> - Drop nulls, standardize formats, join datasets\n",
    "> - Feature engineering: affordability ratios, utilization rates"
   ]
  },
  {
   "cell_type": "code",
   "execution_count": null,
   "id": "5",
   "metadata": {},
   "outputs": [],
   "source": [
    "\n",
    "CENSUS_API_KEY = \"de53f7491b5574a451233a6d04721c4176263ab4\"\n",
    "years = range(2015, 2023)  # 2023 ACS not fully available yet\n",
    "results = []\n",
    "\n",
    "for year in years:\n",
    "    url = (\n",
    "        f\"https://api.census.gov/data/{year}/acs/acs5\"\n",
    "        f\"?get=NAME,B19013_001E&for=county:045&in=state:49&key={CENSUS_API_KEY}\"\n",
    "    )\n",
    "    response = requests.get(url)\n",
    "    if response.status_code == 200:\n",
    "        try:\n",
    "            data = response.json()\n",
    "            value = data[1][1]\n",
    "            results.append({\"year\": year, \"median_income\": int(value)})\n",
    "        except Exception as e:\n",
    "            print(f\"Error parsing {year}: {e}\")\n",
    "    else:\n",
    "        print(f\"Failed for {year}: {response.status_code}\")\n",
    "\n",
    "# Convert to DataFrame\n",
    "income_df = pd.DataFrame(results)\n",
    "income_df = income_df.sort_values(\"year\")\n",
    "income_df.head()"
   ]
  },
  {
   "cell_type": "code",
   "execution_count": null,
   "id": "6",
   "metadata": {},
   "outputs": [],
   "source": [
    "# Housing Prices – Zillow ZHVI (Zillow Home Value Index)\n",
    "\n",
    "path = kagglehub.dataset_download(\"robikscube/zillow-home-value-index\")\n",
    "# print(\"Path to dataset files:\", path)\n",
    "\n",
    "# List all downloaded files to verify filenames\n",
    "# for root, dirs, files in os.walk(path):\n",
    "    # for file in files:\n",
    "        # print(os.path.join(root, file))\n",
    "\n",
    "# Load all home price index data\n",
    "zhvi_path = os.path.join(path, \"ZHVI.csv\")  # Adjust if the filename is different\n",
    "zhvi_df = pd.read_csv(zhvi_path)\n",
    "\n",
    "zhvi_df.rename(columns={zhvi_df.columns[0]: \"date\"}, inplace=True)\n",
    "\n",
    "# Filter for Utah\n",
    "zhvi_ut_df = zhvi_df[['date', 'Utah']].copy()\n",
    "# Format 'date' to datetime and normalize dates to first of the month\n",
    "zhvi_ut_df['date'] = pd.to_datetime(zhvi_ut_df['date']).dt.to_period('M').dt.to_timestamp()\n",
    "zhvi_ut_df.head()"
   ]
  },
  {
   "cell_type": "code",
   "execution_count": null,
   "id": "7",
   "metadata": {},
   "outputs": [],
   "source": [
    "# Join Utah ZHVI data with Tooele and Salt Lake County Data\n",
    "\n",
    "# County data is reported on the last day of the month and State data reported on the first, \n",
    "# dates will be normalized to the first of the month, with county data shifted forward a day\n",
    "\n",
    "zhvi_county_df = pd.read_csv(\"data/zhvi_county_data.csv\")\n",
    "# Format 'date' to datetime and normalize dates to first of the month\n",
    "zhvi_county_df['date'] = pd.to_datetime(zhvi_county_df['date']).dt.to_period('M').dt.to_timestamp()\n",
    "# Shift month forward by 1\n",
    "zhvi_county_df['date'] = zhvi_county_df['date'] + pd.DateOffset(months=1)\n",
    "\n",
    "zhvi_all_df = pd.merge(zhvi_ut_df, zhvi_county_df, on='date', how='outer')\n",
    "\n",
    "housing_df = zhvi_all_df[zhvi_all_df['date'] >= '2015-01-01']\n",
    "\n",
    "# housing_df.info()\n",
    "housing_df.head(10)\n",
    "# housing_df.tail(10)"
   ]
  },
  {
   "cell_type": "code",
   "execution_count": null,
   "id": "8",
   "metadata": {},
   "outputs": [],
   "source": [
    "# Employment Data: Bureau of Labor Statistics (BLS) API\n",
    "\n",
    "# JSON data request\n",
    "headers = {'Content-type': 'application/json'}\n",
    "data = json.dumps({\n",
    "  \"seriesid\": [\"LAUCN490450000000003\"],\n",
    "  \"startyear\": \"2015\",\n",
    "  \"endyear\": \"2024\",\n",
    "  \"registrationkey\": \"6563620fb1c04af6ab1809ebe75012e2\"\n",
    "})\n",
    "\n",
    "response = requests.post('https://api.bls.gov/publicAPI/v2/timeseries/data/', data=data, headers=headers)\n",
    "bls_data = response.json()\n",
    "\n",
    "# Convert to DataFrame\n",
    "series_data = bls_data['Results']['series'][0]['data']\n",
    "bls_df = pd.DataFrame(series_data)\n",
    "\n",
    "# Clean and format data\n",
    "\n",
    "bls_df = bls_df[bls_df['period'].str.startswith('M')]                                       # Keep only month periods (ignore annual summaries or irregular codes)\n",
    "bls_df['date'] = pd.to_datetime(bls_df['year'] + '-' + bls_df['period'].str[1:] + '-01')    # Convert to datetime\n",
    "bls_df['value'] = pd.to_numeric(bls_df['value'])                                            # Convert 'value' to numeric (it's a string by default)\n",
    "bls_df.rename(columns={'value': 'UnemploymentRate'}, inplace=True)                          # Rename for clarity\n",
    "bls_df = bls_df[['date', 'UnemploymentRate', 'year']]                                       # Reduce to desired columns\n",
    "bls_df = bls_df.sort_values('date').reset_index(drop=True)                                  # Sort by date\n",
    "\n",
    "bls_df.head()"
   ]
  },
  {
   "cell_type": "code",
   "execution_count": null,
   "id": "9",
   "metadata": {},
   "outputs": [],
   "source": [
    "# Local Economics – Utah Department of Workforce Services (DWS)\n",
    "\n",
    "# Set the path to your data folder\n",
    "data_dir = 'data'\n",
    "pattern = os.path.join(data_dir, 'industry-and-wages-data-*.csv')\n",
    "\n",
    "# Collect all matching file paths\n",
    "file_paths = glob.glob(pattern)\n",
    "\n",
    "# Read and combine all CSVs, adding a 'Year' column extracted from the filename\n",
    "df_list = []\n",
    "for file_path in file_paths:\n",
    "    year = int(os.path.basename(file_path).split('-')[-1].split('.')[0])  # Extract year from filename\n",
    "    df = pd.read_csv(file_path)\n",
    "    df['Year'] = year\n",
    "    df_list.append(df)\n",
    "\n",
    "# Merge into a single DataFrame\n",
    "local_df = pd.concat(df_list, ignore_index=True)\n",
    "\n",
    "# Optional: Sort by Year\n",
    "local_df.sort_values(by='Year', inplace=True)\n",
    "\n",
    "# View result\n",
    "# print(local_df.head())\n",
    "local_df.head(10)"
   ]
  },
  {
   "cell_type": "markdown",
   "id": "10",
   "metadata": {},
   "source": [
    "## 3. Exploratory Data Analysis (EDA)\n",
    "- Trends in rent, income, voucher use\n",
    "- Maps and charts"
   ]
  },
  {
   "cell_type": "code",
   "execution_count": null,
   "id": "11",
   "metadata": {},
   "outputs": [],
   "source": [
    "housing_mn_df = housing_df.copy()\n",
    "housing_mn_df['year'] = housing_mn_df['date'].dt.year\n",
    "housing_mn_df = housing_mn_df.groupby('year', as_index=False)['Tooele County'].mean()\n",
    "housing_mn_df.rename(columns={'Tooele County': 'median_price'}, inplace=True)\n",
    "\n",
    "housing_mn_df.head()"
   ]
  },
  {
   "cell_type": "code",
   "execution_count": null,
   "id": "12",
   "metadata": {},
   "outputs": [],
   "source": [
    "# Line plot of historical trends\n",
    "plt.figure(figsize=(12, 6))\n",
    "sns.lineplot(data=housing_mn_df, x=\"year\", y=\"median_price\", label=\"Housing Price\")\n",
    "sns.lineplot(data=income_df, x=\"year\", y=\"median_income\", label=\"Income\")\n",
    "plt.title(\"Historical Trends: Median Housing Prices vs. Income (Tooele County)\")\n",
    "plt.ylabel(\"USD\")\n",
    "plt.xlabel(\"Year\")\n",
    "plt.legend()\n",
    "plt.grid(True)\n",
    "plt.show()"
   ]
  },
  {
   "cell_type": "markdown",
   "id": "13",
   "metadata": {},
   "source": [
    "## 5. Evaluation Metrics\n",
    "- Rent-to-income ratio"
   ]
  },
  {
   "cell_type": "markdown",
   "id": "14",
   "metadata": {},
   "source": [
    "## 6. Conclusions and Recommendations\n",
    "- Summary of findings\n",
    "- Policy insights"
   ]
  },
  {
   "cell_type": "markdown",
   "id": "15",
   "metadata": {},
   "source": [
    "## 7. Code Appendix\n",
    "- Functions and utilities"
   ]
  }
 ],
 "metadata": {
  "kernelspec": {
   "display_name": ".venv",
   "language": "python",
   "name": "python3"
  },
  "language_info": {
   "codemirror_mode": {
    "name": "ipython",
    "version": 3
   },
   "file_extension": ".py",
   "mimetype": "text/x-python",
   "name": "python",
   "nbconvert_exporter": "python",
   "pygments_lexer": "ipython3",
   "version": "3.11.9"
  }
 },
 "nbformat": 4,
 "nbformat_minor": 5
}
